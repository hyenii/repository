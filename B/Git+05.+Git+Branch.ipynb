{
 "cells": [
  {
   "cell_type": "markdown",
   "metadata": {
    "collapsed": true
   },
   "source": [
    "# Git 브랜치"
   ]
  },
  {
   "cell_type": "markdown",
   "metadata": {},
   "source": [
    "## 1. 브랜치(branch)란 무엇인가\n",
    "* GitHub에 있는 모든 것은 브랜치에 존재\n",
    "\n",
    "* 프로젝트의 표준적인 버전은 master라는 브랜치에 존재\n",
    "\n",
    "* 새로운 브랜치를 만들어서 프로젝트 수정하는 것은 원본이 아닌 복사본에서 수정하는 것과 같다. 즉, branch를 새로 만들면 처음에는 master branch와 같음\n",
    "\n",
    "* 그 이후의 변경사항은 새로운 branch에만 반영됨\n",
    "\n",
    "* 수정이 완료되면 pull request해서 master와 합칠 수 있음"
   ]
  },
  {
   "cell_type": "markdown",
   "metadata": {},
   "source": [
    "## 2. 새로운 브랜치(branch) 만들기\n"
   ]
  },
  {
   "cell_type": "markdown",
   "metadata": {},
   "source": []
  }
 ],
 "metadata": {
  "kernelspec": {
   "display_name": "Python 3",
   "language": "python",
   "name": "python3"
  },
  "language_info": {
   "codemirror_mode": {
    "name": "ipython",
    "version": 3
   },
   "file_extension": ".py",
   "mimetype": "text/x-python",
   "name": "python",
   "nbconvert_exporter": "python",
   "pygments_lexer": "ipython3",
   "version": "3.6.1"
  }
 },
 "nbformat": 4,
 "nbformat_minor": 2
}
